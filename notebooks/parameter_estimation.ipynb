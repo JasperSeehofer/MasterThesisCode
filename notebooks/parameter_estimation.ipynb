{
 "cells": [
  {
   "cell_type": "markdown",
   "metadata": {},
   "source": [
    "# Fisher Information"
   ]
  },
  {
   "cell_type": "markdown",
   "metadata": {},
   "source": [
    "## Setup"
   ]
  },
  {
   "cell_type": "markdown",
   "metadata": {},
   "source": [
    "### Imports"
   ]
  },
  {
   "cell_type": "code",
   "execution_count": 7,
   "metadata": {},
   "outputs": [],
   "source": [
    "import numpy as np\n",
    "import matplotlib.pyplot as plt\n",
    "\n",
    "from few.trajectory.inspiral import EMRIInspiral\n",
    "from few.waveform import AAKWaveformBase, Pn5AAKWaveform"
   ]
  },
  {
   "cell_type": "markdown",
   "metadata": {},
   "source": [
    "## Schwarzschild Eccentric Flux"
   ]
  },
  {
   "cell_type": "markdown",
   "metadata": {},
   "source": [
    "## PN5"
   ]
  },
  {
   "cell_type": "markdown",
   "metadata": {},
   "source": [
    "### FEW Setup"
   ]
  },
  {
   "cell_type": "code",
   "execution_count": 8,
   "metadata": {},
   "outputs": [],
   "source": [
    "use_gpu = False\n",
    "\n",
    "# keyword arguments for inspiral generator (RunKerrGenericPn5Inspiral)\n",
    "inspiral_kwargs = {\n",
    "    \"DENSE_STEPPING\": 0,\n",
    "    \"max_init_len\": int(1e3)\n",
    "}\n",
    "\n",
    "# keyword arguments for summation generator (AAKSummation)\n",
    "sum_kwargs = {\n",
    "    \"use_gpu\": use_gpu,\n",
    "    \"pad_output\": False\n",
    "}\n",
    "\n",
    "wave_generator = Pn5AAKWaveform(\n",
    "    inspiral_kwargs=inspiral_kwargs,\n",
    "    sum_kwargs=sum_kwargs,\n",
    "    use_gpu=use_gpu\n",
    ")"
   ]
  },
  {
   "cell_type": "code",
   "execution_count": 9,
   "metadata": {},
   "outputs": [],
   "source": [
    "# initial parameters\n",
    "M = 1e6\n",
    "mu = 1e1\n",
    "a = 0.2\n",
    "p0 = 14.0\n",
    "e0 = 0.6\n",
    "iota0 = 0.1\n",
    "Y0 = np.cos(iota0)\n",
    "Phi_phi0 = 0.2\n",
    "Phi_theta0 = 1.2\n",
    "Phi_r0 = 0.8\n",
    "\n",
    "\n",
    "qS = 0.2\n",
    "phiS = 0.2\n",
    "qK = 0.8\n",
    "phiK = 0.8\n",
    "dist = 1.0\n",
    "mich = False\n",
    "dt = 15.0\n",
    "T = 2.0"
   ]
  },
  {
   "cell_type": "code",
   "execution_count": null,
   "metadata": {},
   "outputs": [],
   "source": [
    "waveform = wave_generator(\n",
    "    M, \n",
    "    mu, \n",
    "    a, \n",
    "    p0, \n",
    "    e0, \n",
    "    Y0, \n",
    "    dist, \n",
    "    qS, \n",
    "    phiS, \n",
    "    qK, \n",
    "    phiK, \n",
    "                          Phi_phi0=Phi_phi0, Phi_theta0=Phi_theta0, Phi_r0=Phi_r0, mich=mich, dt=dt, T=T\n",
    ")"
   ]
  }
 ],
 "metadata": {
  "kernelspec": {
   "display_name": "master-thesis-code",
   "language": "python",
   "name": "python3"
  },
  "language_info": {
   "codemirror_mode": {
    "name": "ipython",
    "version": 3
   },
   "file_extension": ".py",
   "mimetype": "text/x-python",
   "name": "python",
   "nbconvert_exporter": "python",
   "pygments_lexer": "ipython3",
   "version": "3.10.12"
  },
  "orig_nbformat": 4
 },
 "nbformat": 4,
 "nbformat_minor": 2
}
